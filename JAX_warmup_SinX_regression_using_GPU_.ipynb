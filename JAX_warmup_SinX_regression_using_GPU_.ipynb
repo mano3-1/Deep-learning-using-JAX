{
  "nbformat": 4,
  "nbformat_minor": 0,
  "metadata": {
    "colab": {
      "name": "JAX warmup - SinX regression using GPU .ipynb",
      "provenance": []
    },
    "kernelspec": {
      "name": "python3",
      "display_name": "Python 3"
    },
    "language_info": {
      "name": "python"
    },
    "accelerator": "GPU"
  },
  "cells": [
    {
      "cell_type": "code",
      "metadata": {
        "id": "x2Dc7xZET3lz"
      },
      "source": [
        "import jax\n",
        "from jax import numpy as jnp\n",
        "from jax import jit, grad\n",
        "from jax import random, vmap"
      ],
      "execution_count": 1,
      "outputs": []
    },
    {
      "cell_type": "code",
      "metadata": {
        "colab": {
          "base_uri": "https://localhost:8080/"
        },
        "id": "k5Zd1J1xx3hR",
        "outputId": "8666412e-0d85-475b-9bd5-d170827cb626"
      },
      "source": [
        "def f(x1,x2,x3, fun_num):\n",
        "    if(fun_num==0):\n",
        "        return x1**5 + 2*(x2**3) + 4*(x3)\n",
        "    return x1*5+x2\n",
        "\n",
        "jitted_f = jit(f, static_argnums=(3,))\n",
        "\n",
        "print(grad(f)(2.,3.,5., 0))\n",
        "\n",
        "\n",
        "@jit\n",
        "def f(x1, x2):\n",
        "    return jnp.log(x1)+jnp.log(x2*x1)\n",
        "\n",
        "print(grad(f)(1.0, 1.))"
      ],
      "execution_count": 2,
      "outputs": [
        {
          "output_type": "stream",
          "name": "stdout",
          "text": [
            "80.0\n",
            "2.0\n"
          ]
        }
      ]
    },
    {
      "cell_type": "code",
      "metadata": {
        "id": "ED74mLr5yPcY"
      },
      "source": [
        "@jit\n",
        "def nonamefunction(x):\n",
        "    print(x.shape)\n",
        "    return x\n"
      ],
      "execution_count": 3,
      "outputs": []
    },
    {
      "cell_type": "code",
      "metadata": {
        "colab": {
          "base_uri": "https://localhost:8080/"
        },
        "id": "zvzH28zTzmMs",
        "outputId": "7c101206-b55b-4a2f-ec09-002bf9166c1f"
      },
      "source": [
        "nonamefunction(jnp.zeros((2,2)))\n",
        "nonamefunction(jnp.zeros((2,2)))\n",
        "nonamefunction(jnp.zeros((1,1)))"
      ],
      "execution_count": 4,
      "outputs": [
        {
          "output_type": "stream",
          "name": "stdout",
          "text": [
            "(2, 2)\n",
            "(1, 1)\n"
          ]
        },
        {
          "output_type": "execute_result",
          "data": {
            "text/plain": [
              "DeviceArray([[0.]], dtype=float32)"
            ]
          },
          "metadata": {},
          "execution_count": 4
        }
      ]
    },
    {
      "cell_type": "code",
      "metadata": {
        "id": "-mKYQtC1z1A-"
      },
      "source": [
        "key = random.PRNGKey(1)\n",
        "\n",
        "def wandb(in_c, o_c, key):\n",
        "    keys = random.split(key, 2)\n",
        "    w = 0.01*random.normal(keys[0], (o_c, in_c))\n",
        "    b = 0.01*random.normal(keys[1], (o_c,))\n",
        "    return [w,b]\n",
        "\n",
        "def mlp(sizes, key):\n",
        "    keys = random.split(key, len(sizes))\n",
        "    params = []\n",
        "    for i in range(len(keys)-1):\n",
        "        key_ = keys[i]\n",
        "        in_c = sizes[i]\n",
        "        o_c = sizes[i+1]\n",
        "        params.append(wandb(in_c, o_c, key_))\n",
        "    return params\n",
        "\n",
        "@jit\n",
        "def relu(x):\n",
        "    return jnp.maximum(0.1*x, x)\n",
        "\n",
        "@jit\n",
        "def forward(params, x):\n",
        "    for w,b in params[:-1]:\n",
        "        x = relu(jnp.dot(w, x)+b)\n",
        "    y_pred = jnp.dot(params[-1][0], x) + params[-1][1]\n",
        "    return y_pred"
      ],
      "execution_count": 5,
      "outputs": []
    },
    {
      "cell_type": "code",
      "metadata": {
        "colab": {
          "base_uri": "https://localhost:8080/"
        },
        "id": "WGR_o7ibCjPB",
        "outputId": "76e6a011-67cb-47be-a95e-88218edcd9a0"
      },
      "source": [
        "sizes = [1, 128, 256, 1]\n",
        "\n",
        "mlp_params = mlp(sizes, key)\n",
        "forward(mlp_params, jnp.zeros(1))"
      ],
      "execution_count": 6,
      "outputs": [
        {
          "output_type": "execute_result",
          "data": {
            "text/plain": [
              "DeviceArray([-0.00080903], dtype=float32)"
            ]
          },
          "metadata": {},
          "execution_count": 6
        }
      ]
    },
    {
      "cell_type": "code",
      "metadata": {
        "id": "8uUf_mXn29vX"
      },
      "source": [
        "batch_forward = jit(vmap(forward, in_axes=(None, 0)))"
      ],
      "execution_count": 7,
      "outputs": []
    },
    {
      "cell_type": "code",
      "metadata": {
        "colab": {
          "base_uri": "https://localhost:8080/"
        },
        "id": "wxs49ue63L7y",
        "outputId": "7377ef77-fc05-4bac-d169-de849868e4c2"
      },
      "source": [
        "batch_forward(mlp_params, jnp.zeros((10, 1)), )"
      ],
      "execution_count": 8,
      "outputs": [
        {
          "output_type": "execute_result",
          "data": {
            "text/plain": [
              "DeviceArray([[-0.00080903],\n",
              "             [-0.00080903],\n",
              "             [-0.00080903],\n",
              "             [-0.00080903],\n",
              "             [-0.00080903],\n",
              "             [-0.00080903],\n",
              "             [-0.00080903],\n",
              "             [-0.00080903],\n",
              "             [-0.00080903],\n",
              "             [-0.00080903]], dtype=float32)"
            ]
          },
          "metadata": {},
          "execution_count": 8
        }
      ]
    },
    {
      "cell_type": "code",
      "metadata": {
        "colab": {
          "base_uri": "https://localhost:8080/"
        },
        "id": "Vwrh_Hng3VtT",
        "outputId": "b745a056-a5cf-4ff1-d1d8-9202942acd1e"
      },
      "source": [
        "@jit\n",
        "def compute_loss(params, x, y):\n",
        "    y_pred = batch_forward(params, x)\n",
        "    loss = jnp.mean(jnp.square(y - y_pred))\n",
        "    #loss = jnp.mean(loss)\n",
        "    return loss\n",
        "@jit\n",
        "def update(params, x, y, lr):\n",
        "    loss = compute_loss(params, x, y)\n",
        "    grads = grad(compute_loss)(params, x, y)\n",
        "    return jax.tree_multimap(lambda p,g:p-lr*g, params, grads), loss\n",
        "compute_loss(mlp_params, jnp.zeros((10,1)), jnp.zeros((10, 1)))"
      ],
      "execution_count": 9,
      "outputs": [
        {
          "output_type": "execute_result",
          "data": {
            "text/plain": [
              "DeviceArray(6.545284e-07, dtype=float32)"
            ]
          },
          "metadata": {},
          "execution_count": 9
        }
      ]
    },
    {
      "cell_type": "code",
      "metadata": {
        "colab": {
          "base_uri": "https://localhost:8080/",
          "height": 265
        },
        "id": "qG0ulPaB4638",
        "outputId": "7fbcb4a1-dfd1-4ddc-c6ca-a316bb831f27"
      },
      "source": [
        "X = jnp.linspace(-3.14, 3.14, 100000).reshape(-1,1)\n",
        "Y = jnp.sin(X)+0.05*random.normal(key, X.shape)\n",
        "from matplotlib import pyplot as plt\n",
        "plt.scatter(X,Y)\n",
        "plt.show()"
      ],
      "execution_count": 10,
      "outputs": [
        {
          "output_type": "display_data",
          "data": {
            "image/png": "[encoded data removed]",
            "text/plain": [
              "<Figure size 432x288 with 1 Axes>"
            ]
          },
          "metadata": {
            "needs_background": "light"
          }
        }
      ]
    },
    {
      "cell_type": "code",
      "metadata": {
        "id": "WmPe9grq5qOg",
        "colab": {
          "base_uri": "https://localhost:8080/"
        },
        "outputId": "faaf967d-8359-4fb3-fce9-022403b11c55"
      },
      "source": [
        "batch_size = 4096\n",
        "num_batches = X.shape[0]//batch_size\n",
        "epochs = 800\n",
        "lr = 1e-2\n",
        "print(\"no of datapoints {} \\nbatch size {} \\nno of batches : {}\".format(\n",
        "    X.shape[0],\n",
        "    batch_size,\n",
        "    num_batches\n",
        "))"
      ],
      "execution_count": 11,
      "outputs": [
        {
          "output_type": "stream",
          "name": "stdout",
          "text": [
            "no of datapoints 100000 \n",
            "batch size 4096 \n",
            "no of batches : 24\n"
          ]
        }
      ]
    },
    {
      "cell_type": "code",
      "metadata": {
        "colab": {
          "base_uri": "https://localhost:8080/"
        },
        "id": "YzjpWlJI6A6v",
        "outputId": "8e6aa358-f8f9-4e96-e38c-b1cf7ec3163c"
      },
      "source": [
        "jax.tree_map(lambda x:x.shape, mlp_params)"
      ],
      "execution_count": 12,
      "outputs": [
        {
          "output_type": "execute_result",
          "data": {
            "text/plain": [
              "[[(128, 1), (128,)], [(256, 128), (256,)], [(1, 256), (1,)]]"
            ]
          },
          "metadata": {},
          "execution_count": 12
        }
      ]
    },
    {
      "cell_type": "code",
      "metadata": {
        "colab": {
          "base_uri": "https://localhost:8080/"
        },
        "id": "B2n8FM7S_8-m",
        "outputId": "96f84cde-ed15-4192-d5e8-e8f0b4b8671f"
      },
      "source": [
        "import time\n",
        "\n",
        "for epoch in range(epochs):\n",
        "    loss = 0\n",
        "    start = time.time()\n",
        "    for batch in range(num_batches):\n",
        "        if(batch==num_batches-1):\n",
        "            batch_x = X[batch_size*batch:]\n",
        "            batch_y = Y[batch_size*batch:]\n",
        "        else:\n",
        "            batch_x = X[batch_size*batch:batch_size*(batch+1)]\n",
        "            batch_y = Y[batch_size*batch:batch_size*(batch+1)]\n",
        "\n",
        "        mlp_params, L = update(mlp_params, batch_x, batch_y, lr)\n",
        "        loss= loss + L*batch_size\n",
        "    loss/=X.shape[0]\n",
        "    end = time.time()\n",
        "    if(epoch%50==0):   \n",
        "        print(\"epoch : {} | loss : {} | time : {}\".format(epoch, loss, end - start))"
      ],
      "execution_count": 13,
      "outputs": [
        {
          "output_type": "stream",
          "name": "stdout",
          "text": [
            "epoch : 0 | loss : 0.5037668943405151 | time : 1.9791288375854492\n",
            "epoch : 50 | loss : 0.13025696575641632 | time : 0.093292236328125\n",
            "epoch : 100 | loss : 0.1119573637843132 | time : 0.08575224876403809\n",
            "epoch : 150 | loss : 0.09198926389217377 | time : 0.08437967300415039\n",
            "epoch : 200 | loss : 0.05729426071047783 | time : 0.08399462699890137\n",
            "epoch : 250 | loss : 0.02585020661354065 | time : 0.08655524253845215\n",
            "epoch : 300 | loss : 0.01230527926236391 | time : 0.08966970443725586\n",
            "epoch : 350 | loss : 0.007139465305954218 | time : 0.0863027572631836\n",
            "epoch : 400 | loss : 0.004992601461708546 | time : 0.08643126487731934\n",
            "epoch : 450 | loss : 0.003987732343375683 | time : 0.0856180191040039\n",
            "epoch : 500 | loss : 0.003466135123744607 | time : 0.08499360084533691\n",
            "epoch : 550 | loss : 0.003156614489853382 | time : 0.08628964424133301\n",
            "epoch : 600 | loss : 0.0029592604842036963 | time : 0.08365750312805176\n",
            "epoch : 650 | loss : 0.002831264166161418 | time : 0.08584809303283691\n",
            "epoch : 700 | loss : 0.002744910307228565 | time : 0.08489823341369629\n",
            "epoch : 750 | loss : 0.002683533588424325 | time : 0.08879971504211426\n"
          ]
        }
      ]
    },
    {
      "cell_type": "code",
      "metadata": {
        "id": "snEnzQRoBr4c",
        "colab": {
          "base_uri": "https://localhost:8080/",
          "height": 265
        },
        "outputId": "16a2849c-ed00-4cef-8e1f-5118d5151707"
      },
      "source": [
        "y_pred = batch_forward(mlp_params, X)\n",
        "\n",
        "plt.scatter(X,Y)\n",
        "plt.scatter(X, y_pred)\n",
        "plt.show()"
      ],
      "execution_count": 17,
      "outputs": [
        {
          "output_type": "display_data",
          "data": {
            "image/png": "[encoded data removed]",
            "text/plain": [
              "<Figure size 432x288 with 1 Axes>"
            ]
          },
          "metadata": {
            "needs_background": "light"
          }
        }
      ]
    },
    {
      "cell_type": "code",
      "metadata": {
        "id": "9AQhzfEuXvYS"
      },
      "source": [
        ""
      ],
      "execution_count": 31,
      "outputs": []
    }
  ]
}